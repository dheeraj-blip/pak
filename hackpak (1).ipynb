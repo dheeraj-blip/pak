{
  "nbformat": 4,
  "nbformat_minor": 0,
  "metadata": {
    "colab": {
      "provenance": []
    },
    "kernelspec": {
      "name": "python3",
      "display_name": "Python 3"
    },
    "language_info": {
      "name": "python"
    }
  },
  "cells": [
    {
      "cell_type": "code",
      "execution_count": 1,
      "metadata": {
        "id": "iKWtI_yUtl1m",
        "outputId": "24c09495-5af7-4146-fca1-63da894dab55",
        "colab": {
          "base_uri": "https://localhost:8080/"
        }
      },
      "outputs": [
        {
          "output_type": "execute_result",
          "data": {
            "text/plain": [
              "<bound method NDFrame.to_csv of     player_id  runs  wickets\n",
              "0           1    40        0\n",
              "1           2    22        1\n",
              "2           3    54        0\n",
              "3           4    46        0\n",
              "4           5    38        0\n",
              "5           6    37        0\n",
              "6           7    14        1\n",
              "7           8     7        1\n",
              "8           9     2        2\n",
              "9          10     2        2\n",
              "10         11     2        2\n",
              "11         12     0        0\n",
              "12         13     0        0\n",
              "13         14     0        0\n",
              "14         15     0        0\n",
              "15         16    49        0\n",
              "16         17    13        1\n",
              "17         18    20        0\n",
              "18         19     0        0\n",
              "19         20     2        2\n",
              "20         21     4        1\n",
              "21         22    25        1\n",
              "22         23    44        0\n",
              "23         24    12        1\n",
              "24         25    25        0\n",
              "25         26     0        0\n",
              "26         27     0        0\n",
              "27         28    12        0\n",
              "28         29     4        2\n",
              "29         30     0        0>"
            ]
          },
          "metadata": {},
          "execution_count": 1
        }
      ],
      "source": [
        "# Import necessary libraries\n",
        "import pandas as pd\n",
        "from sklearn.ensemble import GradientBoostingRegressor\n",
        "# Read the original data from 'data.csv' into a Pandas DataFrame\n",
        "data = pd.read_csv('data.csv')\n",
        "\n",
        "# Define columns to process by excluding 'player_name' and 'last_match'\n",
        "columns_to_process = data.columns.difference(['player_name', 'last_match'])\n",
        "\n",
        "# Define a function to preprocess non-numeric values in the dataset\n",
        "def preprocess_non_numeric(value):\n",
        "    if pd.notna(value):\n",
        "        value = str(value)\n",
        "        if value.isnumeric():\n",
        "            return int(value)\n",
        "        elif '*' in value:\n",
        "            return int(value.split('*')[0])\n",
        "        elif value.lower() in ['dnb', 'tdnb', '-', 'absent']:\n",
        "            return 0\n",
        "    return value\n",
        "\n",
        "# Apply the preprocessing function to the specified columns\n",
        "for col in columns_to_process:\n",
        "    data[col] = data[col].apply(preprocess_non_numeric)\n",
        "\n",
        "\n",
        "# Save the preprocessed data to 'preprocessed_data.csv' without the index\n",
        "data.to_csv('preprocessed_data.csv', index=False)\n",
        "\n",
        "# Read the preprocessed data into a Pandas DataFrame\n",
        "data = pd.read_csv('preprocessed_data.csv')\n",
        "\n",
        "# Define X and y for the machine learning model\n",
        "X = data[['player_id']]\n",
        "y_runs = data['runs_scored']  # Separate target for runs\n",
        "y_wickets = data['wickets']   # Separate target for wickets\n",
        "\n",
        "# Create separate Gradient Boosting Regressor models for runs and wickets\n",
        "model_runs = GradientBoostingRegressor(n_estimators=100, random_state=42)\n",
        "model_wickets = GradientBoostingRegressor(n_estimators=100, random_state=42)\n",
        "\n",
        "# Fit the models to the data\n",
        "model_runs.fit(X, y_runs)\n",
        "model_wickets.fit(X, y_wickets)\n",
        "# Make predictions using the trained models\n",
        "predicted_runs = model_runs.predict(X)\n",
        "predicted_wickets = model_wickets.predict(X)\n",
        "# Create DataFrames with player_id, predicted_runs, and predicted_wickets\n",
        "predicted_data = pd.DataFrame({'player_id': data['player_id'], 'predicted_runs': predicted_runs, 'predicted_wickets': predicted_wickets})\n",
        "\n",
        "# Save the predicted data to 'predicted_runs_and_wickets.csv' without the index\n",
        "predicted_data.to_csv('predicted_runs_and_wickets.csv', index=False)\n",
        "# Read the predicted data into a new Pandas DataFrame\n",
        "predicted_data = pd.read_csv('predicted_runs_and_wickets.csv')\n",
        "# Group the data by 'player_id' and calculate the mean of 'predicted_runs' and 'predicted_wickets'\n",
        "aggregated_data = predicted_data.groupby(['player_id']).agg({\n",
        "    'predicted_runs': 'mean',\n",
        "    'predicted_wickets': 'mean'\n",
        "}).reset_index()\n",
        "# Rename the columns to 'runs' and 'wickets'\n",
        "aggregated_data.rename(columns={'predicted_runs': 'runs', 'predicted_wickets': 'wickets'}, inplace=True)\n",
        "# Round the 'runs' and 'wickets' columns and cast them to integers\n",
        "aggregated_data['runs'] = aggregated_data['runs'].round().astype(int)\n",
        "aggregated_data['wickets'] = aggregated_data['wickets'].round().astype(int)\n",
        "# Save the aggregated data to 'aggregated_runs_and_wickets.csv' without the index\n",
        "aggregated_data.to_csv('aggregated_runs_and_wickets.csv', index=False)\n",
        "# Read the aggregated data into a new Pandas DataFrame\n",
        "aggregated_data = pd.read_csv('aggregated_runs_and_wickets.csv')\n",
        "# Define a list of player IDs that are not playing (12, 13, 14, 15, 19, 26, 27, 30)\n",
        "non_playing_ids = [12, 13, 14, 15, 19, 26, 27, 30]\n",
        "# Set runs and wickets to 0 for non-playing members\n",
        "aggregated_data.loc[aggregated_data['player_id'].isin(non_playing_ids), 'runs'] = 0\n",
        "aggregated_data.loc[aggregated_data['player_id'].isin(non_playing_ids), 'wickets'] = 0\n",
        "# Save the final data with zero runs and wickets for non-playing members\n",
        "aggregated_data.to_csv('final_aggregated_runs_and_wickets.csv', index=False)\n",
        "aggregated_data.to_csv\n"
      ]
    },
    {
      "cell_type": "code",
      "source": [],
      "metadata": {
        "id": "vpnp1_-WxN1Q"
      },
      "execution_count": null,
      "outputs": []
    }
  ]
}